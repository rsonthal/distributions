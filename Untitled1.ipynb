{
 "cells": [
  {
   "cell_type": "markdown",
   "metadata": {},
   "source": [
    "Here $x$ has size $k \\times T$\n",
    "\n",
    "$s$ has size $m \\times k$\n",
    "\n",
    "Thus $y$ has size $m \\times T$ (here each coloum in a data point) \n",
    "\n",
    "$w^T$ has size $1 \\times m$ \n",
    "\n",
    "Thus $b$ has size $1 \\times T$ \n",
    "\n",
    "Thus $t$ has size $1 \\times T$ \n",
    "\n",
    "$x^T$ has size $T \\times k$. Thus $x^T \\otimes w$ has size $T \\times km$. Where $vec(s)$ has size $km$"
   ]
  },
  {
   "cell_type": "code",
   "execution_count": null,
   "metadata": {},
   "outputs": [],
   "source": [
    "function gen(s,x)\n",
    "    return y = s*x\n",
    "end\n",
    "\n",
    "function dis(w,b,y)\n",
    "    return w'*y .+ b \n",
    "end\n",
    "\n",
    "function updateS(s,x,w,b,y)\n",
    "    A = kron(x',w)\n",
    "    s1 = pinv(A')*(b.-1)'\n",
    "    s1 = reshape(s1,)\n",
    "\n",
    "function disloss()\n",
    "    "
   ]
  },
  {
   "cell_type": "code",
   "execution_count": 2,
   "metadata": {},
   "outputs": [
    {
     "data": {
      "text/plain": [
       "2×2 Array{Float64,2}:\n",
       " 0.365352  0.139836\n",
       " 0.868283  0.524655"
      ]
     },
     "execution_count": 2,
     "metadata": {},
     "output_type": "execute_result"
    }
   ],
   "source": [
    "A = rand(2,2)"
   ]
  },
  {
   "cell_type": "code",
   "execution_count": 3,
   "metadata": {},
   "outputs": [
    {
     "data": {
      "text/plain": [
       "4-element Array{Float64,1}:\n",
       " 0.365352\n",
       " 0.868283\n",
       " 0.139836\n",
       " 0.524655"
      ]
     },
     "execution_count": 3,
     "metadata": {},
     "output_type": "execute_result"
    }
   ],
   "source": [
    "vec(A)"
   ]
  },
  {
   "cell_type": "code",
   "execution_count": 4,
   "metadata": {},
   "outputs": [
    {
     "data": {
      "text/plain": [
       "2×2 Array{Float64,2}:\n",
       " 0.365352  0.139836\n",
       " 0.868283  0.524655"
      ]
     },
     "execution_count": 4,
     "metadata": {},
     "output_type": "execute_result"
    }
   ],
   "source": [
    "reshape(vec(A), 2,2)"
   ]
  },
  {
   "cell_type": "code",
   "execution_count": null,
   "metadata": {},
   "outputs": [],
   "source": []
  }
 ],
 "metadata": {
  "kernelspec": {
   "display_name": "Julia 0.6.2",
   "language": "julia",
   "name": "julia-0.6"
  },
  "language_info": {
   "file_extension": ".jl",
   "mimetype": "application/julia",
   "name": "julia",
   "version": "0.6.2"
  }
 },
 "nbformat": 4,
 "nbformat_minor": 2
}
